{
 "cells": [
  {
   "cell_type": "code",
   "execution_count": 1,
   "id": "821637dd",
   "metadata": {},
   "outputs": [],
   "source": [
    "%load_ext autoreload\n",
    "%autoreload 2"
   ]
  },
  {
   "cell_type": "code",
   "execution_count": 2,
   "id": "efabd2fa",
   "metadata": {},
   "outputs": [],
   "source": [
    "from koala.pointsets import uniform\n",
    "from koala import graph_utils as gu\n",
    "from koala import plotting as pl\n",
    "from koala.voronization import generate_lattice\n",
    "from koala.graph_color import color_lattice\n",
    "from koala.flux_finder import fluxes_from_ujk, ujk_from_fluxes, loop_flux\n",
    "from koala.lattice import Lattice\n",
    "from scipy import linalg as la\n",
    "from pfapack.ctypes import pfaffian\n",
    "import pickle\n",
    "from koala import example_graphs as eg\n",
    "from dimer_models.koala_plantri import plantri_to_koala, plantri_generator, read_plantri\n",
    "from dimer_models.lattice_generation import (\n",
    "    bipartite_squarefull,\n",
    "    reduce_bipartite,\n",
    ")\n",
    "\n",
    "from dimer_models.kasteleyn import (\n",
    "    kasteleyn_matrix,\n",
    "    find_kasteleyn_number,\n",
    "    _fast_pfaffian,\n",
    "    find_local_dimer_probability,\n",
    ")\n",
    "\n",
    "import numpy as np\n",
    "import matplotlib.pyplot as plt\n",
    "import matplotlib as mpl\n",
    "\n",
    "from copy import copy\n",
    "\n",
    "cut_boundaries = False\n",
    "\n",
    "ns = 30\n",
    "lattice = gu.com_relaxation(generate_lattice(uniform(ns)))\n",
    "lat_sq = gu.com_relaxation(bipartite_squarefull(ns))\n",
    "lat_red = gu.com_relaxation(reduce_bipartite(lat_sq, 100))\n",
    "\n",
    "lattices = [lattice, lat_sq, lat_red]"
   ]
  },
  {
   "cell_type": "code",
   "execution_count": 3,
   "id": "5adcf96f",
   "metadata": {},
   "outputs": [
    {
     "name": "stdout",
     "output_type": "stream",
     "text": [
      "[ 0.  0.  0. -0. -0.  0. -0. -0. -0. -0. -0. -0.  0. -0. -0. -0. -0. -0.\n",
      "  0.  0.  0. -0. -0. -0.]\n",
      "[1. 1. 1. 1. 1. 1. 1. 1. 1. 1. 1. 1. 1. 1. 1. 1.]\n"
     ]
    }
   ],
   "source": [
    "def _check_probabilities_sum(lattice, probs):\n",
    "    sums = np.array([np.sum(probs[v]) for v in lattice.vertices.adjacent_edges])\n",
    "    return sums\n",
    "    assert np.allclose(sums, 1)\n",
    "\n",
    "\n",
    "l = lat_red\n",
    "\n",
    "norm = find_kasteleyn_number(l, False)\n",
    "\n",
    "brute_force = np.mean(gu.dimerise(l, -1), axis=0)\n",
    "probs = find_local_dimer_probability(l)\n",
    "\n",
    "print(np.round(brute_force - probs, 4))\n",
    "print(_check_probabilities_sum(l, probs))"
   ]
  },
  {
   "cell_type": "code",
   "execution_count": null,
   "id": "f2e83d80",
   "metadata": {},
   "outputs": [],
   "source": [
    "def _check_kast(lattice):\n",
    "\n",
    "    all_dimers = gu.dimerise(lattice, -1)\n",
    "    n_dimers = all_dimers.shape[0]\n",
    "\n",
    "    n_kast = find_kasteleyn_number(lattice)\n",
    "    n_kast_log = find_kasteleyn_number(lattice, True)\n",
    "\n",
    "    # print(n_dimers, n_kast)\n",
    "    if n_dimers > 0:\n",
    "\n",
    "        kast_probs = find_local_dimer_probability(lattice)\n",
    "        dimer_probabilities = np.mean(all_dimers, axis=0)\n",
    "\n",
    "        if not np.allclose(dimer_probabilities, kast_probs):\n",
    "            raise Exception(\"dimer probabilities is broken\")\n",
    "            sums = 1 - np.abs(_check_probabilities_sum(lattice, kast_probs))\n",
    "\n",
    "            # fig, ax = plt.subplots()\n",
    "            # pl.plot_edges(lattice, alpha=0.4)\n",
    "            # p = lattice.vertices.positions\n",
    "            # a = sums / np.max(sums)\n",
    "            # ax.scatter(p[:, 0], p[:, 1], alpha=a)\n",
    "            # plt.show()\n",
    "\n",
    "    assert n_dimers == n_kast\n",
    "    assert round(n_kast_log[0] * 10 ** n_kast_log[1]) == n_kast"
   ]
  },
  {
   "cell_type": "code",
   "execution_count": 10,
   "id": "0eb82b33",
   "metadata": {},
   "outputs": [
    {
     "name": "stdout",
     "output_type": "stream",
     "text": [
      "\n",
      "\n",
      "\n"
     ]
    },
    {
     "ename": "LinAlgError",
     "evalue": "singular matrix",
     "output_type": "error",
     "traceback": [
      "\u001b[31m---------------------------------------------------------------------------\u001b[39m",
      "\u001b[31mLinAlgError\u001b[39m                               Traceback (most recent call last)",
      "\u001b[36mCell\u001b[39m\u001b[36m \u001b[39m\u001b[32mIn[10]\u001b[39m\u001b[32m, line 8\u001b[39m\n\u001b[32m      6\u001b[39m     lattices = pickle.load(f)\n\u001b[32m      7\u001b[39m     \u001b[38;5;28;01mfor\u001b[39;00m l \u001b[38;5;129;01min\u001b[39;00m lattices:\n\u001b[32m----> \u001b[39m\u001b[32m8\u001b[39m         \u001b[43m_check_kast\u001b[49m\u001b[43m(\u001b[49m\u001b[43ml\u001b[49m\u001b[43m)\u001b[49m\n\u001b[32m     10\u001b[39m \u001b[38;5;28;01mexcept\u001b[39;00m \u001b[38;5;167;01mEOFError\u001b[39;00m:\n\u001b[32m     11\u001b[39m     \u001b[38;5;28;01mbreak\u001b[39;00m\n",
      "\u001b[36mCell\u001b[39m\u001b[36m \u001b[39m\u001b[32mIn[8]\u001b[39m\u001b[32m, line 12\u001b[39m, in \u001b[36m_check_kast\u001b[39m\u001b[34m(lattice)\u001b[39m\n\u001b[32m      9\u001b[39m \u001b[38;5;66;03m# print(n_dimers, n_kast)\u001b[39;00m\n\u001b[32m     10\u001b[39m \u001b[38;5;28;01mif\u001b[39;00m n_dimers > \u001b[32m0\u001b[39m:\n\u001b[32m---> \u001b[39m\u001b[32m12\u001b[39m     kast_probs = \u001b[43mfind_local_dimer_probability\u001b[49m\u001b[43m(\u001b[49m\u001b[43mlattice\u001b[49m\u001b[43m)\u001b[49m\n\u001b[32m     13\u001b[39m     dimer_probabilities = np.mean(all_dimers, axis=\u001b[32m0\u001b[39m)\n\u001b[32m     15\u001b[39m     \u001b[38;5;28;01mif\u001b[39;00m \u001b[38;5;129;01mnot\u001b[39;00m np.allclose(dimer_probabilities, kast_probs):\n",
      "\u001b[36mFile \u001b[39m\u001b[32m~/python/packages/dimer_models/src/dimer_models/kasteleyn.py:159\u001b[39m, in \u001b[36mfind_local_dimer_probability\u001b[39m\u001b[34m(lattice)\u001b[39m\n\u001b[32m    155\u001b[39m     \u001b[38;5;28;01mif\u001b[39;00m n_mags[i] == \u001b[32m0\u001b[39m:\n\u001b[32m    156\u001b[39m         \u001b[38;5;28;01mcontinue\u001b[39;00m\n\u001b[32m    158\u001b[39m     kinv_vals[i] = (\n\u001b[32m--> \u001b[39m\u001b[32m159\u001b[39m         \u001b[43mla\u001b[49m\u001b[43m.\u001b[49m\u001b[43minv\u001b[49m\u001b[43m(\u001b[49m\u001b[43mK\u001b[49m\u001b[43m)\u001b[49m * K\n\u001b[32m    160\u001b[39m     )  \u001b[38;5;66;03m# I have no idea why multiplying with K works but it does...\u001b[39;00m\n\u001b[32m    162\u001b[39m \u001b[38;5;66;03m# find the total number of dimerisations\u001b[39;00m\n\u001b[32m    163\u001b[39m max_power = \u001b[38;5;28mmax\u001b[39m(n_pows)\n",
      "\u001b[36mFile \u001b[39m\u001b[32m/opt/homebrew/Caskroom/miniforge/base/envs/phys/lib/python3.13/site-packages/scipy/linalg/_basic.py:1163\u001b[39m, in \u001b[36minv\u001b[39m\u001b[34m(a, overwrite_a, check_finite)\u001b[39m\n\u001b[32m   1161\u001b[39m     inv_a, info = getri(lu, piv, lwork=lwork, overwrite_lu=\u001b[32m1\u001b[39m)\n\u001b[32m   1162\u001b[39m \u001b[38;5;28;01mif\u001b[39;00m info > \u001b[32m0\u001b[39m:\n\u001b[32m-> \u001b[39m\u001b[32m1163\u001b[39m     \u001b[38;5;28;01mraise\u001b[39;00m LinAlgError(\u001b[33m\"\u001b[39m\u001b[33msingular matrix\u001b[39m\u001b[33m\"\u001b[39m)\n\u001b[32m   1164\u001b[39m \u001b[38;5;28;01mif\u001b[39;00m info < \u001b[32m0\u001b[39m:\n\u001b[32m   1165\u001b[39m     \u001b[38;5;28;01mraise\u001b[39;00m \u001b[38;5;167;01mValueError\u001b[39;00m(\u001b[33m'\u001b[39m\u001b[33millegal value in \u001b[39m\u001b[38;5;132;01m%d\u001b[39;00m\u001b[33m-th argument of internal \u001b[39m\u001b[33m'\u001b[39m\n\u001b[32m   1166\u001b[39m                      \u001b[33m'\u001b[39m\u001b[33mgetrf|getri\u001b[39m\u001b[33m'\u001b[39m % -info)\n",
      "\u001b[31mLinAlgError\u001b[39m: singular matrix"
     ]
    }
   ],
   "source": [
    "# fig, ax = plt.subplots(1, 4, figsize=(10, 3))\n",
    "\n",
    "with open(\"../tests/test_lattices\", \"rb\") as f:\n",
    "    while True:\n",
    "        try:\n",
    "            lattices = pickle.load(f)\n",
    "            for l in lattices:\n",
    "                _check_kast(l)\n",
    "\n",
    "        except EOFError:\n",
    "            break\n",
    "        print()\n",
    "\n",
    "\n",
    "# brute_force = np.mean(gu.dimerise(lat, -1), axis=0)\n",
    "# kaseleyn_probs = find_local_dimer_probability(lat)\n",
    "\n",
    "# print(kaseleyn_probs)\n",
    "# # print(brute_force)\n",
    "# print()\n",
    "# # print(np.max(np.abs(kaseleyn_probs - brute_force)))\n",
    "\n",
    "# pl.plot_edges(lat, ax=ax[j])\n",
    "# ax[j].set_xticks([])\n",
    "# ax[j].set_yticks([])\n",
    "# ax[j].set_aspect(\"equal\")"
   ]
  }
 ],
 "metadata": {
  "kernelspec": {
   "display_name": "phys",
   "language": "python",
   "name": "python3"
  },
  "language_info": {
   "codemirror_mode": {
    "name": "ipython",
    "version": 3
   },
   "file_extension": ".py",
   "mimetype": "text/x-python",
   "name": "python",
   "nbconvert_exporter": "python",
   "pygments_lexer": "ipython3",
   "version": "3.13.3"
  }
 },
 "nbformat": 4,
 "nbformat_minor": 5
}
