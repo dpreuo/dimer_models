{
 "cells": [
  {
   "cell_type": "code",
   "execution_count": 1,
   "id": "6bd4e07b",
   "metadata": {},
   "outputs": [],
   "source": [
    "%load_ext autoreload\n",
    "%autoreload 2"
   ]
  },
  {
   "cell_type": "code",
   "execution_count": 2,
   "id": "347a72a9",
   "metadata": {},
   "outputs": [],
   "source": [
    "from koala.pointsets import uniform\n",
    "from koala import graph_utils as gu\n",
    "from koala import plotting as pl\n",
    "from koala.voronization import generate_lattice\n",
    "from koala.graph_color import color_lattice\n",
    "from koala.flux_finder import fluxes_from_ujk, ujk_from_fluxes\n",
    "from koala.lattice import Lattice\n",
    "from scipy import linalg as la\n",
    "from pfapack.pfaffian import pfaffian\n",
    "\n",
    "from koala import example_graphs as eg\n",
    "from dimer_models.koala_plantri import plantri_to_koala, plantri_generator, read_plantri\n",
    "from dimer_models.lattice_generation import (\n",
    "    bipartite_squarefull,\n",
    "    reduce_bipartite,\n",
    ")\n",
    "\n",
    "from dimer_models.kasteleyn import kasteleyn_matrix, find_kasteleyn_number\n",
    "\n",
    "import numpy as np\n",
    "import matplotlib.pyplot as plt\n",
    "import matplotlib as mpl\n",
    "\n",
    "from copy import copy"
   ]
  },
  {
   "cell_type": "code",
   "execution_count": 3,
   "id": "1de2423b",
   "metadata": {},
   "outputs": [
    {
     "ename": "NameError",
     "evalue": "name 'lattice' is not defined",
     "output_type": "error",
     "traceback": [
      "\u001b[31m---------------------------------------------------------------------------\u001b[39m",
      "\u001b[31mNameError\u001b[39m                                 Traceback (most recent call last)",
      "\u001b[36mCell\u001b[39m\u001b[36m \u001b[39m\u001b[32mIn[3]\u001b[39m\u001b[32m, line 31\u001b[39m\n\u001b[32m     27\u001b[39m         adjacent_edges = lattice.edges.adjacent_edges[i]\n\u001b[32m     28\u001b[39m         \u001b[38;5;28mprint\u001b[39m(adjacent_edges)\n\u001b[32m---> \u001b[39m\u001b[32m31\u001b[39m expand_edges(\u001b[43mlattice\u001b[49m, chosen_edge)\n",
      "\u001b[31mNameError\u001b[39m: name 'lattice' is not defined"
     ]
    }
   ],
   "source": [
    "# gu.remove_vertices()\n",
    "\n",
    "\n",
    "def bipartition(lattice):\n",
    "\n",
    "    bp = gu.distance_matrix(lattice)[0] % 2\n",
    "\n",
    "    edge_colours = np.sum(bp[lattice.edges.indices], axis=1)\n",
    "\n",
    "    if not np.all(edge_colours == 1):\n",
    "        raise Exception(\"Latttice is not bipartite\")\n",
    "\n",
    "    return bp\n",
    "\n",
    "\n",
    "def expand_edges(lattice, edge_indices):\n",
    "\n",
    "    positions = lattice.vertices.positions\n",
    "    edges = lattice.edges.indices\n",
    "    crossing = lattice.edges.crossing\n",
    "\n",
    "    adjacent_edges = lattice.edges.adjacent_edges\n",
    "\n",
    "    l = []\n",
    "    for i in l.append(edge_indices):\n",
    "\n",
    "        adjacent_edges = lattice.edges.adjacent_edges[i]\n",
    "        print(adjacent_edges)\n",
    "\n",
    "\n",
    "expand_edges(lattice, chosen_edge)"
   ]
  },
  {
   "cell_type": "code",
   "execution_count": null,
   "id": "c39e54ff",
   "metadata": {},
   "outputs": [],
   "source": [
    "cut_boundaries = False\n",
    "\n",
    "ns = 100\n",
    "lattice = gu.com_relaxation(bipartite_squarefull(ns))"
   ]
  },
  {
   "cell_type": "code",
   "execution_count": null,
   "id": "5d58f7e6",
   "metadata": {},
   "outputs": [
    {
     "ename": "TypeError",
     "evalue": "'NoneType' object is not iterable",
     "output_type": "error",
     "traceback": [
      "\u001b[31m---------------------------------------------------------------------------\u001b[39m",
      "\u001b[31mTypeError\u001b[39m                                 Traceback (most recent call last)",
      "\u001b[36mCell\u001b[39m\u001b[36m \u001b[39m\u001b[32mIn[74]\u001b[39m\u001b[32m, line 2\u001b[39m\n\u001b[32m      1\u001b[39m chosen_edge = \u001b[32m20\u001b[39m\n\u001b[32m----> \u001b[39m\u001b[32m2\u001b[39m \u001b[43mexpand_edges\u001b[49m\u001b[43m(\u001b[49m\u001b[43mlattice\u001b[49m\u001b[43m,\u001b[49m\u001b[43m \u001b[49m\u001b[43mchosen_edge\u001b[49m\u001b[43m)\u001b[49m\n\u001b[32m      4\u001b[39m dimerisations = gu.dimerise(lattice, \u001b[32m10\u001b[39m)\n\u001b[32m      5\u001b[39m bipart = bipartition(lattice)\n",
      "\u001b[36mCell\u001b[39m\u001b[36m \u001b[39m\u001b[32mIn[72]\u001b[39m\u001b[32m, line 23\u001b[39m, in \u001b[36mexpand_edges\u001b[39m\u001b[34m(lattice, edge_indices)\u001b[39m\n\u001b[32m     19\u001b[39m crossing = lattice.edges.crossing\n\u001b[32m     21\u001b[39m adjacent_edges = lattice.edges.adjacent_edges\n\u001b[32m---> \u001b[39m\u001b[32m23\u001b[39m \u001b[43m\u001b[49m\u001b[38;5;28;43;01mfor\u001b[39;49;00m\u001b[43m \u001b[49m\u001b[43mi\u001b[49m\u001b[43m \u001b[49m\u001b[38;5;129;43;01min\u001b[39;49;00m\u001b[43m \u001b[49m\u001b[43m[\u001b[49m\u001b[43m]\u001b[49m\u001b[43m.\u001b[49m\u001b[43mappend\u001b[49m\u001b[43m(\u001b[49m\u001b[43medge_indices\u001b[49m\u001b[43m)\u001b[49m\u001b[43m:\u001b[49m\n\u001b[32m     24\u001b[39m \u001b[43m    \u001b[49m\u001b[43madjacent_edges\u001b[49m\u001b[43m \u001b[49m\u001b[43m=\u001b[49m\u001b[43m \u001b[49m\u001b[43mlattice\u001b[49m\u001b[43m.\u001b[49m\u001b[43medges\u001b[49m\u001b[43m.\u001b[49m\u001b[43madjacent_edges\u001b[49m\u001b[43m[\u001b[49m\u001b[43mi\u001b[49m\u001b[43m]\u001b[49m\n\u001b[32m     25\u001b[39m \u001b[43m    \u001b[49m\u001b[38;5;28;43mprint\u001b[39;49m\u001b[43m(\u001b[49m\u001b[43madjacent_edges\u001b[49m\u001b[43m)\u001b[49m\n",
      "\u001b[31mTypeError\u001b[39m: 'NoneType' object is not iterable"
     ]
    }
   ],
   "source": [
    "chosen_edge = 20\n",
    "expand_edges(lattice, chosen_edge)\n",
    "\n",
    "dimerisations = gu.dimerise(lattice, 10)\n",
    "bipart = bipartition(lattice)\n",
    "\n",
    "fig, ax = plt.subplots(1, 2, figsize=(10, 5))\n",
    "pl.plot_vertices(lattice, labels=bipart, color_scheme=[\"b\", \"r\"], ax=ax[0])\n",
    "\n",
    "pl.plot_edges(lattice, ax=ax[0])\n",
    "pl.plot_edges(lattice, subset=[chosen_edge], ax=ax[0], color_scheme=[\"y\"], linewidth=2)"
   ]
  },
  {
   "cell_type": "code",
   "execution_count": null,
   "id": "5c30b0e3",
   "metadata": {},
   "outputs": [
    {
     "ename": "TypeError",
     "evalue": "'int' object is not iterable",
     "output_type": "error",
     "traceback": [
      "\u001b[31m---------------------------------------------------------------------------\u001b[39m",
      "\u001b[31mTypeError\u001b[39m                                 Traceback (most recent call last)",
      "\u001b[36mCell\u001b[39m\u001b[36m \u001b[39m\u001b[32mIn[71]\u001b[39m\u001b[32m, line 1\u001b[39m\n\u001b[32m----> \u001b[39m\u001b[32m1\u001b[39m \u001b[38;5;28;43mlist\u001b[39;49m\u001b[43m(\u001b[49m\u001b[32;43m4\u001b[39;49m\u001b[43m)\u001b[49m\n",
      "\u001b[31mTypeError\u001b[39m: 'int' object is not iterable"
     ]
    }
   ],
   "source": [
    "list(4)"
   ]
  }
 ],
 "metadata": {
  "kernelspec": {
   "display_name": "phys",
   "language": "python",
   "name": "python3"
  },
  "language_info": {
   "codemirror_mode": {
    "name": "ipython",
    "version": 3
   },
   "file_extension": ".py",
   "mimetype": "text/x-python",
   "name": "python",
   "nbconvert_exporter": "python",
   "pygments_lexer": "ipython3",
   "version": "3.13.3"
  }
 },
 "nbformat": 4,
 "nbformat_minor": 5
}
